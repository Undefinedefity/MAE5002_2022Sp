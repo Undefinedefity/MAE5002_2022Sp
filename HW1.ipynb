{
 "cells": [
  {
   "cell_type": "markdown",
   "metadata": {
    "tags": [],
    "cell_id": "0ae6e728-0903-4d38-afd5-6fb57f7773ce",
    "deepnote_to_be_reexecuted": false,
    "source_hash": "3ec8cf7d",
    "execution_start": 1646902428928,
    "execution_millis": 65,
    "deepnote_app_coordinates": {
     "x": 0,
     "y": 0,
     "w": 12,
     "h": 5
    },
    "deepnote_cell_type": "markdown",
    "deepnote_cell_height": 181.1875
   },
   "source": "## Advanced Numerical Analysis - Homework 1\r\n\r\n**Deadline: 2022/03/08  24:00**\r\n\r\nName: 李岱峰\r\n\r\nSID: 12132268",
   "execution_count": 1
  },
  {
   "cell_type": "markdown",
   "source": "### Problem 1\r\n\r\nFind the number(s) c referred to in Rolle's theorem for each function over the interval indicated.\r\n\r\n1. $f(x) = x^4-4x^2$ over $[-2,2]$\r\n2. $f(x) = sin(x) + sin(2x)$ over $[0,2\\pi]$",
   "metadata": {
    "cell_id": "03af8ef7-6715-4502-961b-e122b9472f82",
    "tags": [],
    "deepnote_app_coordinates": {
     "x": 0,
     "y": 6,
     "w": 12,
     "h": 5
    },
    "deepnote_cell_type": "markdown",
    "deepnote_cell_height": 176.84375
   },
   "outputs": [],
   "execution_count": null
  },
  {
   "cell_type": "markdown",
   "source": "**Solution**\r\n\r\n#### 1.\r\n$ f'(x) = 4x^3 - 8x = 0$ gives $x=0,2,-2$. They all are in the reqiured range therefore the numbers are $0,2,-2$.\r\n\r\n#### 2.\r\n$ f'(x) = \\cos(x)+2\\cos(2x) = \\cos(x) + 2(2\\cos^2(x)-1) = 4\\cos^2(x)+cos(x)-2=0$ gives these satisfied numbers:\r\n\r\n- 5.3473\r\n- 3.7094\r\n- 0.9359\r\n- 2.5738\r\n\r\nYou can find the computation below.",
   "metadata": {
    "cell_id": "e4674273-ba8e-4904-af13-33847fe62afd",
    "tags": [],
    "deepnote_app_coordinates": {
     "x": 0,
     "y": 12,
     "w": 12,
     "h": 5
    },
    "deepnote_cell_type": "markdown",
    "deepnote_cell_height": 352.84375
   },
   "outputs": [],
   "execution_count": null
  },
  {
   "cell_type": "code",
   "source": "# Computation for Problem1 Q2\r\nfrom sympy import *\r\nimport math\r\n\r\nx = Symbol('x')\r\nans = solve(4*cos(x) ** 2 + cos(x) -2, x)\r\nprint(ans)\r\nfor i in ans:\r\n    print(i.evalf())",
   "metadata": {
    "cell_id": "ef8bc2a1-26de-4369-b498-c96af45d9f8c",
    "tags": [],
    "deepnote_to_be_reexecuted": false,
    "source_hash": "6dca111b",
    "execution_start": 1646926588639,
    "execution_millis": 2413,
    "deepnote_app_coordinates": {
     "x": 0,
     "y": 18,
     "w": 12,
     "h": 5
    },
    "deepnote_cell_type": "code",
    "deepnote_cell_height": 336
   },
   "outputs": [
    {
     "name": "stdout",
     "text": "[-acos(-1/8 + sqrt(33)/8) + 2*pi, -acos(-sqrt(33)/8 - 1/8) + 2*pi, acos(-1/8 + sqrt(33)/8), acos(-sqrt(33)/8 - 1/8)]\n5.34725585151826\n3.70942202651844\n0.935929455661326\n2.57376328066115\n",
     "output_type": "stream"
    }
   ],
   "execution_count": null
  },
  {
   "cell_type": "markdown",
   "source": "### Problem 2\r\n\r\nUse Theorem 1.7, the generalized Rolle's theorem, and the special function\r\n$$\r\ng(t)=f(t)-P_N(t)-E_N(x)\\frac{(t-x_0)(t-x_1)...(t-x_N)}{(x-x_0)(x-x_1)...(x-x_N)}\r\n$$\r\nwhere $P_N(x)$ is the Lagrange polynomial of degree $N$, to prove that the error term $E_N(x)=f(x)-P_N(x)$ has the form\r\n$$\r\nE_N(x)=(x-x_0)(x-x_1)...(x-x_N)\\frac{f^{(N+1)}(c)}{(N+1)!}\r\n$$",
   "metadata": {
    "cell_id": "15b8c12e-c61c-44f5-9182-b41d8ab06772",
    "tags": [],
    "deepnote_app_coordinates": {
     "x": 0,
     "y": 24,
     "w": 12,
     "h": 5
    },
    "deepnote_cell_type": "markdown",
    "deepnote_cell_height": 261.5
   },
   "outputs": [],
   "execution_count": null
  },
  {
   "cell_type": "markdown",
   "source": "**Proof**\r\n\r\n\r\n\r\nNotice that $x, x_0, x_1 ... x_N$ are constants with respect to the variable $t$ and that $g(t)$ evaluates to be zero at these three values; that is,\r\n$$\r\ng(x) = f(x)-P_N(x) -E_N(x) = 0\r\n$$\r\n$$\r\ng(x_i) = f(x_i) - P_N(x_i) = 0 \\quad \\text{where } i=0,1,...,N \r\n$$\r\n\r\nThey are in total $N+1$ roots for $g(t)$ and since $P_N(t)$ is differentiable at the order $N+1$ or simply $P_N^{(N+1)}(t)$ exists, then $g^{(N+1)}(t)$ exists. We can apply Genrealized Rolle's Theorem, that there must exists a number $c$ such that $g^{(N+1)}(c)=0$ and $P^{(N+1)}(t)$ is always $0$ since its degress is N, which means\r\n\r\n$$\r\n\\begin{aligned}\r\ng^{(N+1)}(c) &= f^{(N+1)}(c) + P^{(N+1)}_N - E^{(N+1)}_N (x)\\dfrac{(N+1)!}{(x-x_0)(x-x_1)...(x-x_N)} \\\\\r\n&= f^{(N+1)}(c) + 0 - E^{(N+1)}_N (x) \\dfrac{(N+1)!}{(x-x_0)(x-x_1)...(x-x_N)} \\\\\r\n&=0\r\n\\end{aligned}\r\n$$\r\n\r\nThis means\r\n$$\r\nE_N(x)=(x-x_0)(x-x_1)...(x-x_N)\\frac{f^{(N+1)}(c)}{(N+1)!}\r\n$$",
   "metadata": {
    "cell_id": "6197cc9f-4f92-44c5-8173-aa0a82a1d69e",
    "tags": [],
    "deepnote_app_coordinates": {
     "x": 0,
     "y": 30,
     "w": 12,
     "h": 5
    },
    "deepnote_cell_type": "markdown",
    "deepnote_cell_height": 505.1875
   },
   "outputs": [],
   "execution_count": null
  },
  {
   "cell_type": "markdown",
   "source": "### Problem 3\r\n\r\nImproving the quadratic formula. Assume that $a\\neq0$ and $b^2-4ac>0$ and consider the equation $ax^2 + bx +c =0$. The roots can be computed with the quadratic formulas\r\n$$\r\nx_{1}=\\frac{-b+\\sqrt{b^{2}-4 a c}}{2 a} \\quad \\text { and } \\quad x_{2}=\\frac{-b-\\sqrt{b^{2}-4 a c}}{2 a}\r\n$$\r\nShow that these roots can be calculated with the equivalent formulas\r\n$$\r\nx_{1}=\\frac{-2 c}{b+\\sqrt{b^{2}-4 a c}} \\quad \\text { and } \\quad x_{2}=\\frac{-2 c}{b-\\sqrt{b^{2}-4 a c}}\r\n$$\r\n*Hint:* Rationalize the numerators in (3).\r\n\r\n*Remark*. In the cases when $|b|\\approx\\sqrt{b^2-4ac}$, one must proceed with caution to avoid loss of precision due to a catastrophic cancellation. If $b>0$, then $x_1$ should be computed with formula (4) and $x_2$ should be computed using (3). However, if $b<0$, then $x_1$ should be computed using (3) and $x_2$ should be computed using (4).",
   "metadata": {
    "cell_id": "72f8c5d2-fd41-4935-afc7-fe49db9aaa82",
    "tags": [],
    "deepnote_app_coordinates": {
     "x": 0,
     "y": 36,
     "w": 12,
     "h": 5
    },
    "deepnote_cell_type": "markdown",
    "deepnote_cell_height": 382.75
   },
   "outputs": [],
   "execution_count": null
  },
  {
   "cell_type": "markdown",
   "source": "**Solution**\r\n\r\nDo rationalization for $x_1$:\r\n\r\n$$\r\n\\begin{aligned}\r\nx_1 &= \\frac{\\left(-b+\\sqrt{b^{2}-4 a c}\\right)\\left(-b-\\sqrt{b^{2}-4 a c}\\right)}{2 a\\left(-b-\\sqrt{b^{2}-4 a c}\\right)}\\\\\r\n&=\\frac{-2 c}{b+\\sqrt{b^{2}-4 a c}}\r\n\\end{aligned}\r\n$$\r\n\r\nSimilarly for $x_2$ we have \r\n$$\r\n\\begin{aligned}\r\nx_1 &= \\frac{\\left(-b-\\sqrt{b^{2}-4 a c}\\right)\\left(-b+\\sqrt{b^{2}-4 a c}\\right)}{2 a\\left(-b+\\sqrt{b^{2}-4 a c}\\right)}\\\\\r\n&=\\frac{-2 c}{b-\\sqrt{b^{2}-4 a c}}\r\n\\end{aligned}\r\n$$\r\n",
   "metadata": {
    "cell_id": "aa346dfc-8b8b-4fd0-8163-8568c297be0c",
    "tags": [],
    "deepnote_app_coordinates": {
     "x": 0,
     "y": 42,
     "w": 12,
     "h": 5
    },
    "deepnote_cell_type": "markdown",
    "deepnote_cell_height": 359.546875
   },
   "outputs": [],
   "execution_count": null
  },
  {
   "cell_type": "markdown",
   "source": "### Problem 4\r\n\r\nA computer program that plots the graph of $y = f (x)$ over the interval $[a, b]$ using the points $(x_0 , y_0 )$, $(x_1 , y_1 )$, ......, and $(x_N , y_N )$ usually scales the vertical height of the graph, and a procedure must be written to determine the minimum and maximum values of $f$ over the interval.\r\n\r\n(a) Construct an algorithm that will find the values $Y_\\text{max}=$ $\\text{max}_k\\{y_k\\}$ and $Y_\\text{min}=$ $\\text{min}_k\\{y_k\\}$ .\r\n\r\n(b) Write a MATLAB/Python program that will find the approximate location and value of the extreme values of $f(x)$ on the interval $[a, b]$.\r\n\r\n(c) Use your program from part (b) to find the approximate location and value of the extreme values of the functions in problems (1.) and (2.) Compare your approximations with the actual values.\r\n\r\n1. $f (x) = 1,000,000 x^3 - 111,000x^2 + 1110x - 1 \\qquad \\text{for} - 2 \\leq x \\leq 2$\r\n2. $f (x) = 5x^{10} - 38x^9 + 21x^8 - 5π x^6 - 3π x^5 - 5x^2 + 8x - 3 \\qquad \\text{for} -15 ≤ x ≤ 15$",
   "metadata": {
    "cell_id": "d3a260fa-d415-4590-a7ad-7589e02bf753",
    "tags": [],
    "deepnote_app_coordinates": {
     "x": 0,
     "y": 48,
     "w": 12,
     "h": 5
    },
    "deepnote_cell_type": "markdown",
    "deepnote_cell_height": 377.25
   },
   "outputs": [],
   "execution_count": null
  },
  {
   "cell_type": "markdown",
   "source": "**Solution**\r\n\r\n#### (a)\r\nThere is a pseudo code to show the algorithm:\r\n```\r\na,b : interval [a,b]\r\nf   : function y=f(x)\r\nN   : N points \r\n\r\nfindMaxAndMin(a, b, f, N)\r\n{\r\n    x(N+1) = linspace(a,b,N)\r\n    max_idx = a\r\n    min_idx = a\r\n    max = f(x[0])\r\n    min = f(x[0])\r\n    \r\n    for (i=0 to N)\r\n    {\r\n            if (f(x[i]) > max)\r\n            {\r\n                max = f(x[i])\r\n                max_idx = x[i]\r\n            }\r\n        elseif (f(x[i]) < min)\r\n            {\r\n                min =f(x[i])\r\n                min_idx = x[i]\r\n            }\r\n    }\r\n    return (max_idx, max, min, min_idx)\r\n}\r\n```\r\n\r\n#### (b)",
   "metadata": {
    "cell_id": "7f419854-0a84-4e05-b6ba-a5fd37ed3bea",
    "tags": [],
    "deepnote_app_coordinates": {
     "x": 0,
     "y": 54,
     "w": 12,
     "h": 5
    },
    "deepnote_cell_type": "markdown",
    "deepnote_cell_height": 764.390625
   },
   "outputs": [],
   "execution_count": null
  },
  {
   "cell_type": "code",
   "source": "import numpy as np\r\n\r\ndef findMaxAndMin(a, b, f, N):\r\n    x = np.linspace(a, b, N)\r\n    \r\n    max_idx = a\r\n    min_idx = a\r\n    max = f(x[0])\r\n    min = f(x[0])\r\n\r\n    for i in x:\r\n        if (f(i) > max):\r\n            max = f(i)\r\n            max_idx = i\r\n        elif (f(i) < min):\r\n            min = f(i)\r\n            min_idx =i\r\n\r\n    return max, max_idx, min, min_idx",
   "metadata": {
    "cell_id": "e14727a9-398a-4d95-ba37-f7976f7b4314",
    "tags": [],
    "deepnote_to_be_reexecuted": false,
    "source_hash": "e1b1f87f",
    "execution_start": 1646926591070,
    "execution_millis": 11,
    "deepnote_app_coordinates": {
     "x": 0,
     "y": 60,
     "w": 12,
     "h": 5
    },
    "deepnote_cell_type": "code",
    "deepnote_cell_height": 405
   },
   "outputs": [],
   "execution_count": null
  },
  {
   "cell_type": "markdown",
   "source": "#### (c)",
   "metadata": {
    "cell_id": "8f9a1c27-8f6a-41c8-ae75-56808d78b68a",
    "tags": [],
    "deepnote_app_coordinates": {
     "x": 0,
     "y": 66,
     "w": 12,
     "h": 5
    },
    "deepnote_cell_type": "markdown",
    "deepnote_cell_height": 54
   },
   "outputs": [],
   "execution_count": null
  },
  {
   "cell_type": "code",
   "source": "import math\r\n\r\ndef f1(x):\r\n    return 1000000*x**3-111000*x**2+1110*x-1\r\n\r\ndef f2(x):\r\n    return  5*x**10-38*x**9+21*x**8-5*math.pi*x**6-3*math.pi*x**5-5*x**2+8*x-3\r\n\r\n# fucntion 1:\r\nmax_1, max_idx_1, min_1, min_idx_1 = findMaxAndMin(-2, 2, f1, 10000)\r\nprint(\"Max value for f1 is \" , max_1 , \" at x=\" , max_idx_1 , \", and min value is \" , min_1 , \"at x=\" , min_idx_1)\r\n\r\n# function 2:\r\nmax_2, max_idx_2, min_2, min_idx_2 = findMaxAndMin(-15, 15, f2, 70000)\r\nprint(\"Max value for f2 is \" , max_2 , \" at x=\" , max_idx_2 , \", and min value is \" , min_2 , \"at x=\" , min_idx_2)\r\n",
   "metadata": {
    "cell_id": "fbd8152a-d72b-4456-9bf5-b129d8441cbd",
    "tags": [],
    "deepnote_to_be_reexecuted": false,
    "source_hash": "670572bf",
    "execution_start": 1646926591100,
    "execution_millis": 1645,
    "deepnote_app_coordinates": {
     "x": 0,
     "y": 72,
     "w": 12,
     "h": 5
    },
    "deepnote_cell_type": "code",
    "deepnote_cell_height": 402
   },
   "outputs": [
    {
     "name": "stdout",
     "text": "Max value for f1 is  7558219.0  at x= 2.0 , and min value is  -8446221.0 at x= -2\nMax value for f2 is  4397748544673.665  at x= -15 , and min value is  -50597769.21838108 at x= 6.316161659452277\n",
     "output_type": "stream"
    }
   ],
   "execution_count": null
  },
  {
   "cell_type": "markdown",
   "source": "Then we need to find the actual extrem values, as follows:",
   "metadata": {
    "cell_id": "70ada9cb-d117-4a28-a7b4-9dad4b84e185",
    "tags": [],
    "deepnote_app_coordinates": {
     "x": 0,
     "y": 108,
     "w": 12,
     "h": 3
    },
    "deepnote_cell_type": "markdown",
    "deepnote_cell_height": 52.390625
   },
   "outputs": [],
   "execution_count": null
  },
  {
   "cell_type": "code",
   "source": "from scipy import optimize\r\n\r\nxmin_actual_1, ymin_actual_1, _, _ = optimize.fminbound(f1, -2, 2, full_output =True)\r\nxmax_actual_1, ymax_actual_1, _, _ = optimize.fminbound(lambda x: -f1(x), -2, 2, full_output=True)\r\nprint(\"Acual max value for f1 is \" , ymax_actual_1 , \" at x=\" , xmax_actual_1 , \"and the error is \" , (ymax_actual_1-max_1)/ymax_actual_1, \"\\n\"\r\n    , \", and actual min value is \" , ymin_actual_1 , \"at x=\" , xmin_actual_1 , \"and the error is \", (ymin_actual_1-min_1)/ymin_actual_1)\r\n\r\nxmin_actual_2, ymin_actual_2, _, _ = optimize.fminbound(f2, -15, 15, full_output =True)\r\nxmax_actual_2, ymax_actual_2, _, _ = optimize.fminbound(lambda x: -f2(x), -15, 15, full_output=True)\r\nprint(\"Acual max value for f2 is \" , ymax_actual_2 , \" at x=\" , xmax_actual_2 , \"and the error is \" , (ymax_actual_2-max_2)/ymax_actual_2, \"\\n\"\r\n    , \", and actual min value is \" , ymin_actual_2 , \"at x=\" , xmin_actual_2, \"and the error is \", (ymin_actual_2-min_2)/ymin_actual_2)\r\n",
   "metadata": {
    "cell_id": "dff3b58d-f988-4ada-bfa9-3c7135cb50a5",
    "tags": [],
    "deepnote_to_be_reexecuted": false,
    "source_hash": "b098797d",
    "execution_start": 1646926592760,
    "execution_millis": 411,
    "deepnote_app_coordinates": {
     "x": 0,
     "y": 84,
     "w": 12,
     "h": 5
    },
    "deepnote_cell_type": "code",
    "deepnote_cell_height": 370
   },
   "outputs": [
    {
     "name": "stdout",
     "text": "Acual max value for f1 is  -7558153.948986752  at x= 1.999994371326411 and the error is  2.000008606733031 \n , and actual min value is  -8446150.950731639 at x= -1.999994371326411 and the error is  -8.293632066226933e-06\nAcual max value for f2 is  -4397731131028.4355  at x= -14.999993840906932 and the error is  2.0000039596884647 \n , and actual min value is  -50597769.44201968 at x= 6.316100876847561 and the error is  4.419930049631788e-09\n",
     "output_type": "stream"
    }
   ],
   "execution_count": null
  },
  {
   "cell_type": "markdown",
   "source": "However, due to computational error, the right comparasion should be there is no error.",
   "metadata": {
    "cell_id": "1e3e6cb6-d2a0-417c-816f-4a1e9db2d5a5",
    "tags": [],
    "deepnote_app_coordinates": {
     "x": 0,
     "y": 90,
     "w": 12,
     "h": 5
    },
    "deepnote_cell_type": "markdown",
    "deepnote_cell_height": 52.390625
   },
   "outputs": [],
   "execution_count": null
  },
  {
   "cell_type": "markdown",
   "source": "### Problem 5\r\n\r\n***Cube-root algorithm***. Start with $f (x) = x^3 - A$, where $A$ is any real number, and derive the recursive formula\r\n$$\r\np_{k}=\\frac{2 p_{k-1}+A / p_{k-1}^{2}}{3} \\quad \\text { for } k=1,2, \\ldots\r\n$$\r\n\r\n",
   "metadata": {
    "cell_id": "b54c350d-1a80-46e9-8d55-c8d1039646c0",
    "tags": [],
    "deepnote_app_coordinates": {
     "x": 0,
     "y": 96,
     "w": 12,
     "h": 5
    },
    "deepnote_cell_type": "markdown",
    "deepnote_cell_height": 166.5
   },
   "outputs": [],
   "execution_count": null
  },
  {
   "cell_type": "markdown",
   "source": "**Solution**\r\n\r\nSince $f(x), f'(x), f''(x)$ are continuous near the root $^{3}\\sqrt{A}$, we can apply the Newton-Raphson method to do this.\r\n\r\n$$\r\ng(x)=x-\\frac{f(x)}{f^{\\prime}(x)}=x-\\frac{x^{3}-A}{3 x^{2}}=\\frac{2 x+A / x^{2}}{3}\r\n$$\r\n\r\nthen the recuresive formula is \r\n\r\n$$\r\np_{k}=\\frac{2 p_{k-1}+A / p_{k-1}^{2}}{3} \\quad \\text { for } k=1,2, \\ldots\r\n$$\r\n",
   "metadata": {
    "cell_id": "c3ae229a-ee86-4ca2-8ceb-64d4806a5f04",
    "tags": [],
    "deepnote_cell_type": "markdown",
    "deepnote_cell_height": 271
   },
   "outputs": [],
   "execution_count": null
  },
  {
   "cell_type": "markdown",
   "source": "### Problem 6\r\n\r\nUsing MATLAB/Python, modify Program 2.5 (in *Numerical Methods Using MATLAB, 4th*) to use the cube-root algorithm in *Problem 5* above to approximate each of the following cube roots to 10 decimal places.\r\n\r\n(a) Start with $p_0 = 2$ and approximate $7^{1/3}$ .！\r\n\r\n(b) Start with $p_0 = 6$ and approximate $200^{1/3}$ .\r\n\r\n(c) Start with $p_0 = -2$ and approximate $(-7)^{1/3}$ .",
   "metadata": {
    "cell_id": "c74d6c63-f350-4529-a50b-fa00c0f2f700",
    "tags": [],
    "deepnote_app_coordinates": {
     "x": 0,
     "y": 0,
     "w": 12,
     "h": 5
    },
    "deepnote_cell_type": "markdown",
    "deepnote_cell_height": 233
   },
   "outputs": [],
   "execution_count": null
  },
  {
   "outputs": [],
   "cell_type": "code",
   "source": "def newton(f,df,p0,delta,epsilon,max1):\r\n    for k in range(1, max1+1):\r\n        p1 = p0-f(p0)/df(p0)\r\n        err = abs(p1-p0)\r\n        relerr = 2*err/(abs(p1)+delta)\r\n        p0 = p1\r\n        y=f(p0)\r\n        if ((err < delta) | (relerr < delta) | (abs(y) < epsilon)):\r\n            break\r\n    return p0, err, k, y      \r\n\r\ndef f_prime(x):\r\n    return 3*x**2  ",
   "metadata": {
    "cell_id": "81b92584-d962-4032-bc01-eccf960b66bd",
    "tags": [],
    "deepnote_app_coordinates": {
     "x": 0,
     "y": 0,
     "w": 12,
     "h": 5
    },
    "deepnote_to_be_reexecuted": false,
    "source_hash": "4e53a6c2",
    "execution_start": 1646926593178,
    "execution_millis": 8,
    "deepnote_cell_type": "code",
    "deepnote_cell_height": 282
   },
   "execution_count": null
  },
  {
   "cell_type": "code",
   "source": "# (a)\r\nans = newton(lambda x: x**3-7,f_prime,2,5e-11,5e-11,1000)\r\nprint('The approximated root is %.10f' % ans[0])",
   "metadata": {
    "cell_id": "a1350f82-d904-45d9-b095-ceb9bd725d30",
    "tags": [],
    "deepnote_app_coordinates": {
     "x": 0,
     "y": 0,
     "w": 12,
     "h": 5
    },
    "deepnote_to_be_reexecuted": false,
    "source_hash": "f6161621",
    "execution_start": 1646926593196,
    "execution_millis": 3,
    "deepnote_cell_type": "code",
    "deepnote_cell_height": 102
   },
   "outputs": [
    {
     "name": "stdout",
     "text": "The approximated root is 1.9129311828\n",
     "output_type": "stream"
    }
   ],
   "execution_count": null
  },
  {
   "cell_type": "code",
   "source": "# (b)\r\nans = newton(lambda x: x**3-200,f_prime,6,5e-11,5e-11,1000)\r\nprint('The approximated root is %.10f' % ans[0])",
   "metadata": {
    "cell_id": "2b7c20a0-44d4-4cdb-9116-5682cd682ae3",
    "tags": [],
    "deepnote_app_coordinates": {
     "x": 0,
     "y": 0,
     "w": 12,
     "h": 5
    },
    "deepnote_to_be_reexecuted": false,
    "source_hash": "c622133b",
    "execution_start": 1646926593218,
    "execution_millis": 412977,
    "deepnote_cell_type": "code",
    "deepnote_cell_height": 102
   },
   "outputs": [
    {
     "name": "stdout",
     "text": "The approximated root is 5.8480354764\n",
     "output_type": "stream"
    }
   ],
   "execution_count": null
  },
  {
   "cell_type": "code",
   "source": "# (c)\r\nans = newton(lambda x: x**3+7,f_prime,-2,5e-11,5e-11,1000)\r\nprint('The approximated root is %.10f' % ans[0])",
   "metadata": {
    "cell_id": "69820bef-8bb4-4d12-a087-2c2ba0532305",
    "tags": [],
    "deepnote_app_coordinates": {
     "x": 0,
     "y": 0,
     "w": 12,
     "h": 5
    },
    "deepnote_to_be_reexecuted": false,
    "source_hash": "a3eeca99",
    "execution_start": 1646926593272,
    "execution_millis": 412948,
    "deepnote_cell_type": "code",
    "deepnote_cell_height": 102
   },
   "outputs": [
    {
     "name": "stdout",
     "text": "The approximated root is -1.9129311828\n",
     "output_type": "stream"
    }
   ],
   "execution_count": null
  },
  {
   "cell_type": "markdown",
   "source": "### Problem 7\r\n\r\nProve equation (23) of Theorem 2.6. Use the following steps. By Theorem 1.11, we can expand $f (x)$ about $x = p_k$ to get\r\n$$\r\nf(x)=f\\left(p_{k}\\right)+f^{\\prime}\\left(p_{k}\\right)\\left(x-p_{k}\\right)+\\frac{1}{2} f^{\\prime \\prime}\\left(c_{k}\\right)\\left(x-p_{k}\\right)^{2}\r\n$$\r\nSince $p$ is a zero of $f (x)$, we set $x = p $ and obtain\r\n$$\r\n0=f\\left(p_{k}\\right)+f^{\\prime}\\left(p_{k}\\right)\\left(p-p_{k}\\right)+\\frac{1}{2} f^{\\prime \\prime}\\left(c_{k}\\right)\\left(p-p_{k}\\right)^{2}\r\n$$\r\n\r\n\r\n1. Now assume that $f' (x) \\neq 0$  for all x near the root $p$. Use the facts given above and $f' (p_k) \\neq 0$ to show that\r\n   $$\r\n   p-p_{k}+\\frac{f\\left(p_{k}\\right)}{f^{\\prime}\\left(p_{k}\\right)}=\\frac{-f^{\\prime \\prime}\\left(c_{k}\\right)}{2 f^{\\prime}\\left(p_{k}\\right)}\\left(p-p_{k}\\right)^{2}\r\n   $$\r\n\r\n2. Assume that $f'(x)$ and $f''(x)$ do not change too rapidly so that we can use the approximations $f'(p_k) \\approx f'(p)$ and$f''(c_k) \\approx f''(p)$. Now use part (a) to get\r\n\r\n$$\r\nE_{k+1} \\approx \\frac{-f^{\\prime \\prime}(p)}{2 f^{\\prime}(p)} E_{k}^{2}\r\n$$\r\n\r\n",
   "metadata": {
    "cell_id": "8036e78a-9a38-4b93-9645-6c6192722f03",
    "tags": [],
    "deepnote_app_coordinates": {
     "x": 0,
     "y": 0,
     "w": 12,
     "h": 5
    },
    "deepnote_cell_type": "markdown",
    "deepnote_cell_height": 452
   },
   "outputs": [],
   "execution_count": null
  },
  {
   "cell_type": "markdown",
   "source": "1. Divide both sides by $f'(x)$ for the\r\n$$ \r\n0=f\\left(p_{k}\\right)+f^{\\prime}\\left(p_{k}\\right)\\left(p-p_{k}\\right)+\\frac{1}{2} f^{\\prime \\prime}\\left(c_{k}\\right)\\left(p-p_{k}\\right)^{2}\r\n$$\r\n\r\nwe get\r\n$$\r\np-p_{k}+\\frac{f\\left(p_{k}\\right)}{f^{\\prime}\\left(p_{k}\\right)}=\\frac{-f^{\\prime \\prime}\\left(c_{k}\\right)}{2 f^{\\prime}\\left(p_{k}\\right)}\\left(p-p_{k}\\right)^{2}\r\n$$\r\n\r\n2. Since $E_k=p-p_k$, we can obtain below from the equation above\r\n\r\n$$\r\nE_{k}+\\frac{f\\left(p_{k}\\right)}{f^{\\prime}\\left(p_{k}\\right)}=\r\n\\frac{-f^{\\prime \\prime}\\left(p_{k}\\right)}{2 f^{\\prime}\\left(p_{k}\\right)} E_{k}^{2} \\quad \\ldots \\ldots (*)\r\n$$\r\n\r\nand by the Newton-Raphson theorem $p_{k+1}=p_{k}-\\frac{f\\left(p_{k}\\right)}{f^{\\prime}\\left(p_{k}\\right)}$, we have\r\n\r\n$$\r\n\\frac{f\\left(p_{k}\\right)}{f^{\\prime}\\left(p_{k}\\right)}=p_{k}-p_{k+1}=E_{k+1}-E_{k}\r\n$$\r\n\r\nSubstitue it into $(*)$ we get\r\n$$\r\nE_{k}+\\frac{f\\left(p_{k}\\right)}{f^{\\prime}\\left(p_{k}\\right)}=E_{k+1}=\\frac{-f^{\\prime \\prime}\\left(p_{k}\\right)}{2 f^{\\prime}\\left(p_{k}\\right)} E_{k}^{2}\r\n$$\r\n\r\nSince $f'(p_k) \\approx f'(p)$, and $f''(c_k)\\approx f''(p)$,\r\n$$\r\nE_{k+1}=\\frac{-f^{\\prime \\prime}\\left(p_{k}\\right)}{2 f^{\\prime}\\left(p_{k}\\right)} E_{k}^{2} \\approx \\frac{-f^{\\prime \\prime}(p)}{2 f^{\\prime}(p)} E_{k}^{2}\r\n$$",
   "metadata": {
    "cell_id": "a99c1b02-6cd0-4d0f-a389-44473ce569de",
    "tags": [],
    "deepnote_app_coordinates": {
     "x": 0,
     "y": 0,
     "w": 12,
     "h": 5
    },
    "deepnote_cell_type": "markdown",
    "deepnote_cell_height": 595
   },
   "outputs": [],
   "execution_count": null
  },
  {
   "cell_type": "markdown",
   "source": "### Problem 8\r\n\r\nWrite a MATLAB/Python program to implementing the algorithm\r\n\r\n> ***Halley’s method*** is another way to speed up convergence of Newton’s method. The Halley iteration formula is\r\n> $$\r\n> g(x)=x-\\frac{f(x)}{f^{\\prime}(x)}\\left[1-\\frac{f(x) f^{\\prime \\prime}(x)}{2\\left(f^{\\prime}(x)\\right)^{2}}\\right]^{-1}\r\n> $$\r\n> The term in brackets is the modification of the Newton-Raphson formula. Halley’s method will yield cubic convergence ($R = 3$) at simple zeros of $f (x)$.\r\n>\r\n> 1. Start with $f (x) = x^2 - A$ and find Halley’s iteration formula $g(x)$ for finding $\\sqrt{A}$. Use $p_0 = 2$ to approximate $\\sqrt{5}$ and compute $p_1$, $p_2$, and $p_3$.\r\n>\r\n> 2. Start with $f(x) = x^3 - 3x + 2$ and find Halley’s iteration formula $g(x)$. Use $p _0 = -2.4$ and compute $p_1$, $p_2$, and $p_3$.",
   "metadata": {
    "cell_id": "b5143e60-d305-4f01-b408-faa93b233e9b",
    "tags": [],
    "deepnote_app_coordinates": {
     "x": 0,
     "y": 0,
     "w": 12,
     "h": 5
    },
    "deepnote_cell_type": "markdown",
    "deepnote_cell_height": 318.25
   },
   "outputs": [],
   "execution_count": null
  },
  {
   "cell_type": "code",
   "source": "def halley(f, df, ddf, p0, delta, epsilon, max1):\r\n    p_n = []\r\n    for k in range (1, max1 + 1):\r\n        p1 = p0-f(p0)/df(p0)/(1-f(p0)*ddf(p0)/(2*df(p0)**2))\r\n        p_n.append(p1)\r\n        err = abs(p1-p0)\r\n        relerr = 2*err/(abs(p1)+delta)\r\n        p0 = p1\r\n        y = f(p0)\r\n        if ((err < delta) | (relerr < delta) | (abs(y) < epsilon)):\r\n            break\r\n    return p0, p_n, err, k, y ",
   "metadata": {
    "cell_id": "5a824919-8410-4527-bcb1-7ce3a6bf3e07",
    "tags": [],
    "deepnote_app_coordinates": {
     "x": 0,
     "y": 0,
     "w": 12,
     "h": 5
    },
    "deepnote_to_be_reexecuted": false,
    "source_hash": "92817044",
    "execution_start": 1646926593273,
    "execution_millis": 3,
    "deepnote_cell_type": "code",
    "deepnote_cell_height": 264
   },
   "outputs": [],
   "execution_count": null
  },
  {
   "cell_type": "markdown",
   "source": "1. $A=5$, $f(x) = x^2 +5, f'(x) = 2x, f''(x) = 2$, then $g(x) = x - \\dfrac{x^2-5}{2x}$",
   "metadata": {
    "cell_id": "e74854e2-3130-4066-831e-75939827e2e5",
    "tags": [],
    "deepnote_app_coordinates": {
     "x": 0,
     "y": 0,
     "w": 12,
     "h": 5
    },
    "deepnote_cell_type": "markdown",
    "deepnote_cell_height": 84
   },
   "outputs": [],
   "execution_count": null
  },
  {
   "outputs": [
    {
     "name": "stdout",
     "text": "The approximated ps are 2.2352941176, 2.2360679775, and 2.2360679775\n",
     "output_type": "stream"
    }
   ],
   "cell_type": "code",
   "source": "ans = halley(lambda x: x**2 -5, lambda x: 2*x, lambda x:2, 2, 5e-11, 5e-11, 1000)\r\nprint('The approximated ps are %.10f, %.10f, and %.10f' % (ans[1][0], ans[1][1], ans[1][2]))",
   "metadata": {
    "cell_id": "fc3fef8f-3b55-4a74-899b-9f3623eb5f6f",
    "tags": [],
    "deepnote_app_coordinates": {
     "x": 0,
     "y": 0,
     "w": 12,
     "h": 5
    },
    "deepnote_to_be_reexecuted": false,
    "source_hash": "4cee7abd",
    "execution_start": 1646926624034,
    "execution_millis": 0,
    "deepnote_cell_type": "code",
    "deepnote_cell_height": 136.1875,
    "deepnote_output_heights": [
     21.1875
    ]
   },
   "execution_count": null
  },
  {
   "cell_type": "markdown",
   "source": "2. $f(x) = x^3 -3x +2, f'(x) = 3x^2-3, f''(x) = 6x$, then $g(x) = g(x)=x-\\dfrac{x^{3}-3 x+2}{3 x^{2}-3}$",
   "metadata": {
    "cell_id": "af5d369f-749b-4947-81a8-3ed3117e4b59",
    "tags": [],
    "deepnote_app_coordinates": {
     "x": 0,
     "y": 0,
     "w": 12,
     "h": 5
    },
    "deepnote_cell_type": "markdown",
    "deepnote_cell_height": 86
   },
   "outputs": [],
   "execution_count": null
  },
  {
   "outputs": [
    {
     "name": "stdout",
     "text": "The approximated ps are -2.0130081301, -2.0000007211, and -2.0000000000\n",
     "output_type": "stream"
    }
   ],
   "cell_type": "code",
   "source": "ans = halley(lambda x: x**3 - 3*x +2, lambda x: 3*x**2 -3, lambda x:6*x, -2.4, 5e-11, 5e-11, 1000)\r\nprint('The approximated ps are %.10f, %.10f, and %.10f' % (ans[1][0], ans[1][1], ans[1][2]))",
   "metadata": {
    "cell_id": "36128008-e6b9-485e-af0d-982b3a81390f",
    "tags": [],
    "deepnote_app_coordinates": {
     "x": 0,
     "y": 0,
     "w": 12,
     "h": 5
    },
    "deepnote_to_be_reexecuted": false,
    "source_hash": "f89272e7",
    "execution_start": 1646926695014,
    "execution_millis": 9,
    "deepnote_cell_type": "code",
    "deepnote_cell_height": 130
   },
   "execution_count": null
  },
  {
   "cell_type": "code",
   "source": "!git add .\r\n!git commit -m \"modified HW1\"\r\n!git push origin main",
   "metadata": {
    "cell_id": "cb04e79c-d542-43d0-bd3d-605f75a3b6ac",
    "tags": [],
    "deepnote_app_coordinates": {
     "x": 0,
     "y": 0,
     "w": 12,
     "h": 5
    },
    "deepnote_to_be_reexecuted": false,
    "source_hash": "f90834b",
    "execution_start": 1646927454810,
    "execution_millis": 1014,
    "deepnote_cell_type": "code",
    "deepnote_cell_height": 568
   },
   "outputs": [
    {
     "name": "stdout",
     "text": "[main 83c94ff] modified HW1\n Committer: root <root@p-40fb57a5-10dc-4a84-98b6-dc1d64e6f452.projects-domain.projects.svc.cluster.local>\nYour name and email address were configured automatically based\non your username and hostname. Please check that they are accurate.\nYou can suppress this message by setting them explicitly. Run the\nfollowing command and follow the instructions in your editor to edit\nyour configuration file:\n\n    git config --global --edit\n\nAfter doing this, you may fix the identity used for this commit with:\n\n    git commit --amend --reset-author\n\n 1 file changed, 22 insertions(+), 4 deletions(-)\nWarning: Identity file /work/.deepnote/gitkey not accessible: No such file or directory.\n\n\nfatal: Could not read from remote repository.\n\nPlease make sure you have the correct access rights\nand the repository exists.\n",
     "output_type": "stream"
    }
   ],
   "execution_count": null
  },
  {
   "cell_type": "markdown",
   "source": "<a style='text-decoration:none;line-height:16px;display:flex;color:#5B5B62;padding:10px;justify-content:end;' href='https://deepnote.com?utm_source=created-in-deepnote-cell&projectId=40fb57a5-10dc-4a84-98b6-dc1d64e6f452' target=\"_blank\">\n<img alt='Created in deepnote.com' style='display:inline;max-height:16px;margin:0px;margin-right:7.5px;' src='data:image/svg+xml;base64,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' > </img>\nCreated in <span style='font-weight:600;margin-left:4px;'>Deepnote</span></a>",
   "metadata": {
    "tags": [],
    "created_in_deepnote_cell": true,
    "deepnote_cell_type": "markdown"
   }
  }
 ],
 "nbformat": 4,
 "nbformat_minor": 2,
 "metadata": {
  "orig_nbformat": 2,
  "deepnote": {
   "is_reactive": false
  },
  "deepnote_notebook_id": "32418c19-f626-4859-9467-3cc4cd9c72fd",
  "deepnote_execution_queue": [],
  "deepnote_app_layout": "article"
 }
}